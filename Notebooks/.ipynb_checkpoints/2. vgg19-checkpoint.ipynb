{
 "cells": [
  {
   "cell_type": "code",
   "execution_count": 1,
   "id": "da0ae970-cd8e-4ac8-9a31-e910bbfb794a",
   "metadata": {},
   "outputs": [],
   "source": [
    "from tensorflow.keras.layers import Input, Lambda, Dense, Flatten,Dropout\n",
    "from tensorflow.keras.models import Model\n",
    "from tensorflow.keras.applications.vgg19 import VGG19\n",
    "from tensorflow.keras.applications.vgg19 import preprocess_input\n",
    "from tensorflow.keras.preprocessing import image\n",
    "from tensorflow.keras.preprocessing.image import ImageDataGenerator\n",
    "from tensorflow.keras.models import Sequential\n",
    "import numpy as np\n",
    "import pandas as pd\n",
    "import os\n",
    "import cv2\n",
    "import matplotlib.pyplot as plt"
   ]
  },
  {
   "cell_type": "code",
   "execution_count": 2,
   "id": "56c5b163-9843-466c-a9b4-d769995dacee",
   "metadata": {},
   "outputs": [],
   "source": [
    "train_path = '../data/train_images_split/train'"
   ]
  },
  {
   "cell_type": "code",
   "execution_count": 3,
   "id": "add032d5-192c-4afb-bb65-1a85dabce352",
   "metadata": {},
   "outputs": [],
   "source": [
    "val_path = '../data/train_images_split/val'"
   ]
  },
  {
   "cell_type": "code",
   "execution_count": 4,
   "id": "04cf4c76-a8ad-497f-ba65-38b5b64f6e4c",
   "metadata": {},
   "outputs": [],
   "source": [
    "test_path = '../data/test_images'"
   ]
  },
  {
   "cell_type": "code",
   "execution_count": 5,
   "id": "d71a9528-dcbd-4573-bcbd-e2f053a8a3b7",
   "metadata": {
    "tags": []
   },
   "outputs": [
    {
     "name": "stdout",
     "output_type": "stream",
     "text": [
      "8323\r"
     ]
    }
   ],
   "source": [
    "X_train = []\n",
    "x = 0\n",
    "for folder in os.listdir(train_path):\n",
    "    \n",
    "    sub_path = train_path + '/' + folder\n",
    "    \n",
    "    for img in os.listdir(sub_path):\n",
    "        image_path = sub_path + '/' + img\n",
    "        img_arr = cv2.imread(image_path)\n",
    "        img_arr = cv2.resize(img_arr, (50,50))\n",
    "        X_train.append(img_arr)\n",
    "        x += 1\n",
    "        print(x, end='\\r')"
   ]
  },
  {
   "cell_type": "code",
   "execution_count": 6,
   "id": "7d56e65f-55c3-4a0f-992e-e0940f4f2273",
   "metadata": {},
   "outputs": [
    {
     "name": "stdout",
     "output_type": "stream",
     "text": [
      "3469\r"
     ]
    }
   ],
   "source": [
    "X_test = []\n",
    "x = 0\n",
    "for img in os.listdir(test_path):\n",
    "    \n",
    "    image_path = test_path + '/' + img\n",
    "    img_arr = cv2.imread(image_path)\n",
    "    img_arr = cv2.resize(img_arr, (50,50))\n",
    "    X_test.append(img_arr)\n",
    "    x += 1\n",
    "    print(x, end='\\r')"
   ]
  },
  {
   "cell_type": "code",
   "execution_count": 7,
   "id": "7defd2a4-3d50-4ba6-a8f6-fe127fead450",
   "metadata": {},
   "outputs": [
    {
     "name": "stdout",
     "output_type": "stream",
     "text": [
      "2084\r"
     ]
    }
   ],
   "source": [
    "X_val = []\n",
    "x = 0\n",
    "for folder in os.listdir(val_path):\n",
    "    sub_path = val_path + '/' + folder\n",
    "    \n",
    "    for img in os.listdir(sub_path):\n",
    "        image_path = sub_path + '/' + img\n",
    "        img_arr = cv2.imread(image_path)\n",
    "        img_arr = cv2.resize(img_arr, (50,50))\n",
    "        X_val.append(img_arr)\n",
    "        x += 1\n",
    "        print(x, end = '\\r')\n",
    "        \n",
    "    "
   ]
  },
  {
   "cell_type": "code",
   "execution_count": 8,
   "id": "99a419ef-9aae-445e-b442-07d69f41fad0",
   "metadata": {
    "tags": []
   },
   "outputs": [],
   "source": [
    "X_train = np.array(X_train)\n",
    "X_test = np.array(X_test)\n",
    "X_val = np.array(X_val)"
   ]
  },
  {
   "cell_type": "code",
   "execution_count": 9,
   "id": "328d38e9-0798-4dd9-a684-8e559683367f",
   "metadata": {},
   "outputs": [],
   "source": [
    "X_train = X_train / 255\n",
    "X_test = X_test / 255\n",
    "X_val = X_val / 255"
   ]
  },
  {
   "cell_type": "code",
   "execution_count": 10,
   "id": "5882684b-6ac4-4aad-bb88-1e0bba18a1e3",
   "metadata": {},
   "outputs": [],
   "source": [
    "train_datagen = ImageDataGenerator(rescale = 1./255)"
   ]
  },
  {
   "cell_type": "code",
   "execution_count": 11,
   "id": "b8f154a5-37c2-405e-ac91-291c93417d2e",
   "metadata": {},
   "outputs": [],
   "source": [
    "test_datagen = ImageDataGenerator(rescale = 1./255)"
   ]
  },
  {
   "cell_type": "code",
   "execution_count": 12,
   "id": "c80304f6-be20-4764-aaf1-5e09e6168f21",
   "metadata": {},
   "outputs": [],
   "source": [
    "val_datagen = ImageDataGenerator(rescale = 1./255)"
   ]
  },
  {
   "cell_type": "code",
   "execution_count": 13,
   "id": "90302107-21f5-4bbf-9e56-fc8dc4edd6ad",
   "metadata": {},
   "outputs": [
    {
     "name": "stdout",
     "output_type": "stream",
     "text": [
      "Found 8323 images belonging to 10 classes.\n",
      "Found 0 images belonging to 0 classes.\n",
      "Found 2084 images belonging to 10 classes.\n"
     ]
    }
   ],
   "source": [
    "training_set = train_datagen.flow_from_directory(train_path,\n",
    "                                                 target_size = (50,50),\n",
    "                                                 batch_size = 32,\n",
    "                                                 class_mode = 'sparse')\n",
    "test_set = test_datagen.flow_from_directory(test_path,\n",
    "                                            target_size = (50,50),\n",
    "                                            batch_size = 32,\n",
    "                                            class_mode = 'sparse')\n",
    "val_set = val_datagen.flow_from_directory(val_path,\n",
    "                                            target_size = (50,50),\n",
    "                                            batch_size = 32,\n",
    "                                            class_mode = 'sparse')"
   ]
  },
  {
   "cell_type": "code",
   "execution_count": 14,
   "id": "5d984b4f-25e9-444b-8d35-738fc5281179",
   "metadata": {},
   "outputs": [],
   "source": [
    "y_train=training_set.classes\n",
    "y_test=test_set.classes\n",
    "y_val=val_set.classes"
   ]
  },
  {
   "cell_type": "code",
   "execution_count": 15,
   "id": "e358b697-4d27-4bf8-b40e-225a176f02f6",
   "metadata": {},
   "outputs": [
    {
     "data": {
      "text/plain": [
       "{'bacterial_leaf_blight': 0,\n",
       " 'bacterial_leaf_streak': 1,\n",
       " 'bacterial_panicle_blight': 2,\n",
       " 'blast': 3,\n",
       " 'brown_spot': 4,\n",
       " 'dead_heart': 5,\n",
       " 'downy_mildew': 6,\n",
       " 'hispa': 7,\n",
       " 'normal': 8,\n",
       " 'tungro': 9}"
      ]
     },
     "execution_count": 15,
     "metadata": {},
     "output_type": "execute_result"
    }
   ],
   "source": [
    "training_set.class_indices"
   ]
  },
  {
   "cell_type": "code",
   "execution_count": 16,
   "id": "d4beae64-d0a0-4812-a832-ecd63c020c63",
   "metadata": {},
   "outputs": [
    {
     "data": {
      "text/plain": [
       "((8323,), (0,), (2084,))"
      ]
     },
     "execution_count": 16,
     "metadata": {},
     "output_type": "execute_result"
    }
   ],
   "source": [
    "y_train.shape,y_test.shape,y_val.shape"
   ]
  },
  {
   "cell_type": "code",
   "execution_count": 17,
   "id": "3f9916ed-4b3e-4746-b72f-4616331bfcd8",
   "metadata": {},
   "outputs": [
    {
     "data": {
      "text/plain": [
       "50"
      ]
     },
     "execution_count": 17,
     "metadata": {},
     "output_type": "execute_result"
    }
   ],
   "source": [
    "X_train.shape[1]"
   ]
  },
  {
   "cell_type": "code",
   "execution_count": 39,
   "id": "49d15498-1453-4190-835c-8c53af9de587",
   "metadata": {},
   "outputs": [],
   "source": [
    "vgg = VGG19(input_shape = (50, 50, 3), weights = 'imagenet', include_top = False)"
   ]
  },
  {
   "cell_type": "code",
   "execution_count": 40,
   "id": "65c5469b-7497-4a24-9d7f-507b83ca082b",
   "metadata": {},
   "outputs": [],
   "source": [
    "#do not train the pre-trained layers of VGG-19\n",
    "for layer in vgg.layers:\n",
    "    layer.trainable = False"
   ]
  },
  {
   "cell_type": "code",
   "execution_count": 41,
   "id": "a5211c8d-13ab-41d7-a4d3-8155aa5dc134",
   "metadata": {},
   "outputs": [],
   "source": [
    "x = Flatten()(vgg.output)"
   ]
  },
  {
   "cell_type": "code",
   "execution_count": 42,
   "id": "1064fc58-6874-4f38-9d4a-ec6b20ac3bbf",
   "metadata": {},
   "outputs": [],
   "source": [
    "#adding output layer.Softmax classifier is used as it is multi-class classification\n",
    "prediction = Dense(10, activation='softmax')(x)\n",
    "\n",
    "model = Model(inputs=vgg.input, outputs=prediction)"
   ]
  },
  {
   "cell_type": "code",
   "execution_count": 43,
   "id": "5769c702-6766-4d98-9867-f80cb9787612",
   "metadata": {
    "collapsed": true,
    "jupyter": {
     "outputs_hidden": true
    },
    "tags": []
   },
   "outputs": [
    {
     "name": "stdout",
     "output_type": "stream",
     "text": [
      "Model: \"model_2\"\n",
      "_________________________________________________________________\n",
      " Layer (type)                Output Shape              Param #   \n",
      "=================================================================\n",
      " input_4 (InputLayer)        [(None, 50, 50, 3)]       0         \n",
      "                                                                 \n",
      " block1_conv1 (Conv2D)       (None, 50, 50, 64)        1792      \n",
      "                                                                 \n",
      " block1_conv2 (Conv2D)       (None, 50, 50, 64)        36928     \n",
      "                                                                 \n",
      " block1_pool (MaxPooling2D)  (None, 25, 25, 64)        0         \n",
      "                                                                 \n",
      " block2_conv1 (Conv2D)       (None, 25, 25, 128)       73856     \n",
      "                                                                 \n",
      " block2_conv2 (Conv2D)       (None, 25, 25, 128)       147584    \n",
      "                                                                 \n",
      " block2_pool (MaxPooling2D)  (None, 12, 12, 128)       0         \n",
      "                                                                 \n",
      " block3_conv1 (Conv2D)       (None, 12, 12, 256)       295168    \n",
      "                                                                 \n",
      " block3_conv2 (Conv2D)       (None, 12, 12, 256)       590080    \n",
      "                                                                 \n",
      " block3_conv3 (Conv2D)       (None, 12, 12, 256)       590080    \n",
      "                                                                 \n",
      " block3_conv4 (Conv2D)       (None, 12, 12, 256)       590080    \n",
      "                                                                 \n",
      " block3_pool (MaxPooling2D)  (None, 6, 6, 256)         0         \n",
      "                                                                 \n",
      " block4_conv1 (Conv2D)       (None, 6, 6, 512)         1180160   \n",
      "                                                                 \n",
      " block4_conv2 (Conv2D)       (None, 6, 6, 512)         2359808   \n",
      "                                                                 \n",
      " block4_conv3 (Conv2D)       (None, 6, 6, 512)         2359808   \n",
      "                                                                 \n",
      " block4_conv4 (Conv2D)       (None, 6, 6, 512)         2359808   \n",
      "                                                                 \n",
      " block4_pool (MaxPooling2D)  (None, 3, 3, 512)         0         \n",
      "                                                                 \n",
      " block5_conv1 (Conv2D)       (None, 3, 3, 512)         2359808   \n",
      "                                                                 \n",
      " block5_conv2 (Conv2D)       (None, 3, 3, 512)         2359808   \n",
      "                                                                 \n",
      " block5_conv3 (Conv2D)       (None, 3, 3, 512)         2359808   \n",
      "                                                                 \n",
      " block5_conv4 (Conv2D)       (None, 3, 3, 512)         2359808   \n",
      "                                                                 \n",
      " block5_pool (MaxPooling2D)  (None, 1, 1, 512)         0         \n",
      "                                                                 \n",
      " flatten_2 (Flatten)         (None, 512)               0         \n",
      "                                                                 \n",
      " dense_2 (Dense)             (None, 10)                5130      \n",
      "                                                                 \n",
      "=================================================================\n",
      "Total params: 20,029,514\n",
      "Trainable params: 5,130\n",
      "Non-trainable params: 20,024,384\n",
      "_________________________________________________________________\n"
     ]
    }
   ],
   "source": [
    "# view the structure of the model\n",
    "model.summary()"
   ]
  },
  {
   "cell_type": "code",
   "execution_count": 44,
   "id": "46487cb9-9389-4639-8638-f7fda7e64615",
   "metadata": {},
   "outputs": [],
   "source": [
    "model.compile(\n",
    "  loss='sparse_categorical_crossentropy',\n",
    "  optimizer=\"adam\",\n",
    "  metrics=['accuracy']\n",
    ")"
   ]
  },
  {
   "cell_type": "code",
   "execution_count": 45,
   "id": "c1bc2b67-ebef-4d13-aa80-f63af643b4af",
   "metadata": {},
   "outputs": [],
   "source": [
    "from tensorflow.keras.callbacks import EarlyStopping\n",
    "early_stop=EarlyStopping(monitor='val_loss',mode='min',verbose=1,patience=5)\n",
    "#Early stopping to avoid overfitting of model"
   ]
  },
  {
   "cell_type": "code",
   "execution_count": 46,
   "id": "984cbd34-8e25-4b92-bfd2-e5e351b8d111",
   "metadata": {},
   "outputs": [
    {
     "name": "stdout",
     "output_type": "stream",
     "text": [
      "Epoch 1/10\n",
      "261/261 [==============================] - 80s 306ms/step - loss: 2.0047 - accuracy: 0.2793 - val_loss: 1.9058 - val_accuracy: 0.3316\n",
      "Epoch 2/10\n",
      "261/261 [==============================] - 104s 398ms/step - loss: 1.8364 - accuracy: 0.3571 - val_loss: 1.8095 - val_accuracy: 0.3584\n",
      "Epoch 3/10\n",
      "261/261 [==============================] - 106s 407ms/step - loss: 1.7523 - accuracy: 0.3779 - val_loss: 1.7413 - val_accuracy: 0.3954\n",
      "Epoch 4/10\n",
      "261/261 [==============================] - 97s 372ms/step - loss: 1.6937 - accuracy: 0.4042 - val_loss: 1.7027 - val_accuracy: 0.4184\n",
      "Epoch 5/10\n",
      "261/261 [==============================] - 94s 362ms/step - loss: 1.6481 - accuracy: 0.4179 - val_loss: 1.6835 - val_accuracy: 0.4189\n",
      "Epoch 6/10\n",
      "261/261 [==============================] - 94s 362ms/step - loss: 1.6123 - accuracy: 0.4336 - val_loss: 1.6413 - val_accuracy: 0.4371\n",
      "Epoch 7/10\n",
      "261/261 [==============================] - 113s 435ms/step - loss: 1.5794 - accuracy: 0.4474 - val_loss: 1.6143 - val_accuracy: 0.4395\n",
      "Epoch 8/10\n",
      "261/261 [==============================] - 109s 418ms/step - loss: 1.5519 - accuracy: 0.4560 - val_loss: 1.5896 - val_accuracy: 0.4515\n",
      "Epoch 9/10\n",
      "261/261 [==============================] - 109s 417ms/step - loss: 1.5301 - accuracy: 0.4646 - val_loss: 1.5835 - val_accuracy: 0.4535\n",
      "Epoch 10/10\n",
      "261/261 [==============================] - 106s 408ms/step - loss: 1.5075 - accuracy: 0.4700 - val_loss: 1.5561 - val_accuracy: 0.4587\n"
     ]
    }
   ],
   "source": [
    "# fit the model\n",
    "history = model.fit(\n",
    "  X_train,\n",
    "  y_train,\n",
    "  validation_data=(X_val,y_val),\n",
    "  epochs=10,\n",
    "  callbacks=[early_stop],\n",
    "  batch_size=32,shuffle=True)"
   ]
  },
  {
   "cell_type": "code",
   "execution_count": 47,
   "id": "84b13b5b-0149-4190-871a-80ddb35c69bf",
   "metadata": {},
   "outputs": [
    {
     "data": {
      "image/png": "[encoded data removed]",
      "text/plain": [
       "<Figure size 432x288 with 1 Axes>"
      ]
     },
     "metadata": {
      "needs_background": "light"
     },
     "output_type": "display_data"
    }
   ],
   "source": [
    "# accuracies\n",
    "\n",
    "plt.plot(history.history['accuracy'], label='train acc')\n",
    "\n",
    "plt.plot(history.history['val_accuracy'], label='val acc')\n",
    "\n",
    "plt.legend()\n",
    "\n",
    "plt.savefig('vgg-acc-rps-1.png')\n",
    "\n",
    "plt.show()"
   ]
  },
  {
   "cell_type": "code",
   "execution_count": 48,
   "id": "f4e46011-2867-4905-ba71-5087217cd23b",
   "metadata": {},
   "outputs": [
    {
     "data": {
      "image/png": "[encoded data removed]",
      "text/plain": [
       "<Figure size 432x288 with 1 Axes>"
      ]
     },
     "metadata": {
      "needs_background": "light"
     },
     "output_type": "display_data"
    }
   ],
   "source": [
    "# loss\n",
    "plt.plot(history.history['loss'], label='train loss')\n",
    "plt.plot(history.history['val_loss'], label='val loss')\n",
    "plt.legend()\n",
    "plt.savefig('vgg-loss-rps-1.png')\n",
    "plt.show()"
   ]
  },
  {
   "cell_type": "code",
   "execution_count": 50,
   "id": "0a75d1c1-12df-433d-84c2-d36587ea24d0",
   "metadata": {},
   "outputs": [
    {
     "ename": "ValueError",
     "evalue": "Data cardinality is ambiguous:\n  x sizes: 3469\n  y sizes: 0\nMake sure all arrays contain the same number of samples.",
     "output_type": "error",
     "traceback": [
      "\u001b[1;31m---------------------------------------------------------------------------\u001b[0m",
      "\u001b[1;31mValueError\u001b[0m                                Traceback (most recent call last)",
      "\u001b[1;32m~\\AppData\\Local\\Temp/ipykernel_3872/1968882210.py\u001b[0m in \u001b[0;36m<module>\u001b[1;34m\u001b[0m\n\u001b[1;32m----> 1\u001b[1;33m \u001b[0mmodel\u001b[0m\u001b[1;33m.\u001b[0m\u001b[0mevaluate\u001b[0m\u001b[1;33m(\u001b[0m\u001b[0mX_test\u001b[0m\u001b[1;33m,\u001b[0m\u001b[0my_test\u001b[0m\u001b[1;33m,\u001b[0m\u001b[0mbatch_size\u001b[0m\u001b[1;33m=\u001b[0m\u001b[1;36m32\u001b[0m\u001b[1;33m)\u001b[0m\u001b[1;33m\u001b[0m\u001b[1;33m\u001b[0m\u001b[0m\n\u001b[0m",
      "\u001b[1;32m~\\AppData\\Local\\Packages\\PythonSoftwareFoundation.Python.3.9_qbz5n2kfra8p0\\LocalCache\\local-packages\\Python39\\site-packages\\keras\\utils\\traceback_utils.py\u001b[0m in \u001b[0;36merror_handler\u001b[1;34m(*args, **kwargs)\u001b[0m\n\u001b[0;32m     65\u001b[0m     \u001b[1;32mexcept\u001b[0m \u001b[0mException\u001b[0m \u001b[1;32mas\u001b[0m \u001b[0me\u001b[0m\u001b[1;33m:\u001b[0m  \u001b[1;31m# pylint: disable=broad-except\u001b[0m\u001b[1;33m\u001b[0m\u001b[1;33m\u001b[0m\u001b[0m\n\u001b[0;32m     66\u001b[0m       \u001b[0mfiltered_tb\u001b[0m \u001b[1;33m=\u001b[0m \u001b[0m_process_traceback_frames\u001b[0m\u001b[1;33m(\u001b[0m\u001b[0me\u001b[0m\u001b[1;33m.\u001b[0m\u001b[0m__traceback__\u001b[0m\u001b[1;33m)\u001b[0m\u001b[1;33m\u001b[0m\u001b[1;33m\u001b[0m\u001b[0m\n\u001b[1;32m---> 67\u001b[1;33m       \u001b[1;32mraise\u001b[0m \u001b[0me\u001b[0m\u001b[1;33m.\u001b[0m\u001b[0mwith_traceback\u001b[0m\u001b[1;33m(\u001b[0m\u001b[0mfiltered_tb\u001b[0m\u001b[1;33m)\u001b[0m \u001b[1;32mfrom\u001b[0m \u001b[1;32mNone\u001b[0m\u001b[1;33m\u001b[0m\u001b[1;33m\u001b[0m\u001b[0m\n\u001b[0m\u001b[0;32m     68\u001b[0m     \u001b[1;32mfinally\u001b[0m\u001b[1;33m:\u001b[0m\u001b[1;33m\u001b[0m\u001b[1;33m\u001b[0m\u001b[0m\n\u001b[0;32m     69\u001b[0m       \u001b[1;32mdel\u001b[0m \u001b[0mfiltered_tb\u001b[0m\u001b[1;33m\u001b[0m\u001b[1;33m\u001b[0m\u001b[0m\n",
      "\u001b[1;32m~\\AppData\\Local\\Packages\\PythonSoftwareFoundation.Python.3.9_qbz5n2kfra8p0\\LocalCache\\local-packages\\Python39\\site-packages\\keras\\engine\\data_adapter.py\u001b[0m in \u001b[0;36m_check_data_cardinality\u001b[1;34m(data)\u001b[0m\n\u001b[0;32m   1655\u001b[0m                            for i in tf.nest.flatten(single_data)))\n\u001b[0;32m   1656\u001b[0m     \u001b[0mmsg\u001b[0m \u001b[1;33m+=\u001b[0m \u001b[1;34m\"Make sure all arrays contain the same number of samples.\"\u001b[0m\u001b[1;33m\u001b[0m\u001b[1;33m\u001b[0m\u001b[0m\n\u001b[1;32m-> 1657\u001b[1;33m     \u001b[1;32mraise\u001b[0m \u001b[0mValueError\u001b[0m\u001b[1;33m(\u001b[0m\u001b[0mmsg\u001b[0m\u001b[1;33m)\u001b[0m\u001b[1;33m\u001b[0m\u001b[1;33m\u001b[0m\u001b[0m\n\u001b[0m\u001b[0;32m   1658\u001b[0m \u001b[1;33m\u001b[0m\u001b[0m\n\u001b[0;32m   1659\u001b[0m \u001b[1;33m\u001b[0m\u001b[0m\n",
      "\u001b[1;31mValueError\u001b[0m: Data cardinality is ambiguous:\n  x sizes: 3469\n  y sizes: 0\nMake sure all arrays contain the same number of samples."
     ]
    }
   ],
   "source": [
    "model.evaluate(X_test,y_test,batch_size=32)"
   ]
  }
 ],
 "metadata": {
  "kernelspec": {
   "display_name": "Python 3 (ipykernel)",
   "language": "python",
   "name": "python3"
  },
  "language_info": {
   "codemirror_mode": {
    "name": "ipython",
    "version": 3
   },
   "file_extension": ".py",
   "mimetype": "text/x-python",
   "name": "python",
   "nbconvert_exporter": "python",
   "pygments_lexer": "ipython3",
   "version": "3.9.12"
  }
 },
 "nbformat": 4,
 "nbformat_minor": 5
}

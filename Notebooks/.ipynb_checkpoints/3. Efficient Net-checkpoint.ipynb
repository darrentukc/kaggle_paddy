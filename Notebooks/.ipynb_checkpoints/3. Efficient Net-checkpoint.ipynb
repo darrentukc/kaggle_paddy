{
 "cells": [
  {
   "cell_type": "code",
   "execution_count": 107,
   "id": "da0ae970-cd8e-4ac8-9a31-e910bbfb794a",
   "metadata": {},
   "outputs": [],
   "source": [
    "import tensorflow as tf\n",
    "from tensorflow.keras.layers import Input, Lambda, Dense, Flatten,Dropout\n",
    "from tensorflow.keras.models import Model\n",
    "from tensorflow.keras.applications.vgg19 import VGG19\n",
    "from tensorflow.keras.applications.vgg19 import preprocess_input\n",
    "from tensorflow.keras.preprocessing import image\n",
    "from tensorflow.keras.preprocessing.image import ImageDataGenerator\n",
    "from tensorflow.keras.models import Sequential\n",
    "import numpy as np\n",
    "import pandas as pd\n",
    "import os\n",
    "import cv2\n",
    "import matplotlib.pyplot as plt"
   ]
  },
  {
   "cell_type": "code",
   "execution_count": 2,
   "id": "56c5b163-9843-466c-a9b4-d769995dacee",
   "metadata": {},
   "outputs": [],
   "source": [
    "train_path = '../data/train_images_split/train'"
   ]
  },
  {
   "cell_type": "code",
   "execution_count": 3,
   "id": "add032d5-192c-4afb-bb65-1a85dabce352",
   "metadata": {},
   "outputs": [],
   "source": [
    "val_path = '../data/train_images_split/val'"
   ]
  },
  {
   "cell_type": "code",
   "execution_count": 4,
   "id": "04cf4c76-a8ad-497f-ba65-38b5b64f6e4c",
   "metadata": {},
   "outputs": [],
   "source": [
    "test_path = '../data/test_images'"
   ]
  },
  {
   "cell_type": "code",
   "execution_count": 5,
   "id": "d71a9528-dcbd-4573-bcbd-e2f053a8a3b7",
   "metadata": {
    "tags": []
   },
   "outputs": [
    {
     "name": "stdout",
     "output_type": "stream",
     "text": [
      "8323\r"
     ]
    }
   ],
   "source": [
    "X_train = []\n",
    "x = 0\n",
    "for folder in os.listdir(train_path):\n",
    "    \n",
    "    sub_path= train_path + '/' + folder\n",
    "    \n",
    "    for img in os.listdir(sub_path):\n",
    "        image_path = sub_path + '/' + img\n",
    "        img_arr = cv2.imread(image_path)\n",
    "        img_arr = cv2.resize(img_arr, (32,32))\n",
    "        X_train.append(img_arr)\n",
    "        x += 1\n",
    "        print(x, end='\\r')"
   ]
  },
  {
   "cell_type": "code",
   "execution_count": 65,
   "id": "7d56e65f-55c3-4a0f-992e-e0940f4f2273",
   "metadata": {},
   "outputs": [
    {
     "name": "stdout",
     "output_type": "stream",
     "text": [
      "3469\r"
     ]
    }
   ],
   "source": [
    "X_test = []\n",
    "x = 0\n",
    "for img in os.listdir(test_path):\n",
    "    \n",
    "    image_path = test_path + '/' + img\n",
    "    img_arr = cv2.imread(image_path)\n",
    "    img_arr = cv2.resize(img_arr, (32,32))\n",
    "    X_test.append(img_arr)\n",
    "    x += 1\n",
    "    print(x, end='\\r')"
   ]
  },
  {
   "cell_type": "code",
   "execution_count": 7,
   "id": "7defd2a4-3d50-4ba6-a8f6-fe127fead450",
   "metadata": {},
   "outputs": [
    {
     "name": "stdout",
     "output_type": "stream",
     "text": [
      "2084\r"
     ]
    }
   ],
   "source": [
    "X_val = []\n",
    "x = 0\n",
    "for folder in os.listdir(val_path):\n",
    "    sub_path = val_path + '/' + folder\n",
    "    \n",
    "    for img in os.listdir(sub_path):\n",
    "        image_path = sub_path + '/' + img\n",
    "        img_arr = cv2.imread(image_path)\n",
    "        img_arr = cv2.resize(img_arr, (32,32))\n",
    "        X_val.append(img_arr)\n",
    "        x += 1\n",
    "        print(x, end = '\\r')\n",
    "        \n",
    "    "
   ]
  },
  {
   "cell_type": "code",
   "execution_count": 8,
   "id": "99a419ef-9aae-445e-b442-07d69f41fad0",
   "metadata": {
    "tags": []
   },
   "outputs": [],
   "source": [
    "X_train = np.array(X_train)\n",
    "X_test = np.array(X_test)\n",
    "X_val = np.array(X_val)"
   ]
  },
  {
   "cell_type": "code",
   "execution_count": 9,
   "id": "328d38e9-0798-4dd9-a684-8e559683367f",
   "metadata": {},
   "outputs": [],
   "source": [
    "X_train = X_train / 255\n",
    "X_test = X_test / 255\n",
    "X_val = X_val / 255"
   ]
  },
  {
   "cell_type": "code",
   "execution_count": 10,
   "id": "5882684b-6ac4-4aad-bb88-1e0bba18a1e3",
   "metadata": {},
   "outputs": [],
   "source": [
    "train_datagen = ImageDataGenerator(rescale = 1./255)"
   ]
  },
  {
   "cell_type": "code",
   "execution_count": 11,
   "id": "b8f154a5-37c2-405e-ac91-291c93417d2e",
   "metadata": {},
   "outputs": [],
   "source": [
    "test_datagen = ImageDataGenerator(rescale = 1./255)"
   ]
  },
  {
   "cell_type": "code",
   "execution_count": 12,
   "id": "c80304f6-be20-4764-aaf1-5e09e6168f21",
   "metadata": {},
   "outputs": [],
   "source": [
    "val_datagen = ImageDataGenerator(rescale = 1./255)"
   ]
  },
  {
   "cell_type": "code",
   "execution_count": 13,
   "id": "90302107-21f5-4bbf-9e56-fc8dc4edd6ad",
   "metadata": {},
   "outputs": [
    {
     "name": "stdout",
     "output_type": "stream",
     "text": [
      "Found 8323 images belonging to 10 classes.\n",
      "Found 0 images belonging to 0 classes.\n",
      "Found 2084 images belonging to 10 classes.\n"
     ]
    }
   ],
   "source": [
    "training_set = train_datagen.flow_from_directory(train_path,\n",
    "                                                 target_size = (32,32),\n",
    "                                                 batch_size = 32,\n",
    "                                                 class_mode = 'sparse')\n",
    "test_set = test_datagen.flow_from_directory(test_path,\n",
    "                                            target_size = (32,32),\n",
    "                                            batch_size = 32,\n",
    "                                            class_mode = 'sparse')\n",
    "val_set = val_datagen.flow_from_directory(val_path,\n",
    "                                            target_size = (32,32),\n",
    "                                            batch_size = 32,\n",
    "                                            class_mode = 'sparse')"
   ]
  },
  {
   "cell_type": "code",
   "execution_count": 14,
   "id": "5d984b4f-25e9-444b-8d35-738fc5281179",
   "metadata": {},
   "outputs": [],
   "source": [
    "y_train=training_set.classes\n",
    "y_test=test_set.classes\n",
    "y_val=val_set.classes"
   ]
  },
  {
   "cell_type": "code",
   "execution_count": 15,
   "id": "e358b697-4d27-4bf8-b40e-225a176f02f6",
   "metadata": {},
   "outputs": [
    {
     "data": {
      "text/plain": [
       "{'bacterial_leaf_blight': 0,\n",
       " 'bacterial_leaf_streak': 1,\n",
       " 'bacterial_panicle_blight': 2,\n",
       " 'blast': 3,\n",
       " 'brown_spot': 4,\n",
       " 'dead_heart': 5,\n",
       " 'downy_mildew': 6,\n",
       " 'hispa': 7,\n",
       " 'normal': 8,\n",
       " 'tungro': 9}"
      ]
     },
     "execution_count": 15,
     "metadata": {},
     "output_type": "execute_result"
    }
   ],
   "source": [
    "training_set.class_indices"
   ]
  },
  {
   "cell_type": "code",
   "execution_count": null,
   "id": "d4beae64-d0a0-4812-a832-ecd63c020c63",
   "metadata": {},
   "outputs": [
    {
     "data": {
      "text/plain": [
       "((8323,), (0,), (2084,))"
      ]
     },
     "execution_count": 16,
     "metadata": {},
     "output_type": "execute_result"
    }
   ],
   "source": [
    "y_train.shape,y_test.shape,y_val.shape"
   ]
  },
  {
   "cell_type": "code",
   "execution_count": null,
   "id": "3f9916ed-4b3e-4746-b72f-4616331bfcd8",
   "metadata": {},
   "outputs": [
    {
     "data": {
      "text/plain": [
       "32"
      ]
     },
     "execution_count": 17,
     "metadata": {},
     "output_type": "execute_result"
    }
   ],
   "source": [
    "X_train.shape[1]"
   ]
  },
  {
   "cell_type": "code",
   "execution_count": null,
   "id": "3457e45d-16fd-4a3d-84ca-8aeffb7a0bfc",
   "metadata": {},
   "outputs": [],
   "source": []
  },
  {
   "cell_type": "code",
   "execution_count": null,
   "id": "429e8867-2be7-4c89-8113-d57b41d506b3",
   "metadata": {},
   "outputs": [],
   "source": []
  },
  {
   "cell_type": "code",
   "execution_count": null,
   "id": "e7c3042c-873a-4717-b9ff-0a583610bf96",
   "metadata": {},
   "outputs": [],
   "source": []
  },
  {
   "cell_type": "code",
   "execution_count": null,
   "id": "f7e7e354-e5ed-451d-ac53-54b701d9400f",
   "metadata": {},
   "outputs": [],
   "source": []
  },
  {
   "cell_type": "code",
   "execution_count": null,
   "id": "4fe68896-a7f7-4a35-9678-a1a11a935ab2",
   "metadata": {},
   "outputs": [],
   "source": []
  },
  {
   "cell_type": "code",
   "execution_count": null,
   "id": "64102115-1be4-45bd-9fe3-ccd2e2733d97",
   "metadata": {},
   "outputs": [],
   "source": []
  },
  {
   "cell_type": "code",
   "execution_count": null,
   "id": "3efcbc89-319b-49f6-b895-a95f89adcf45",
   "metadata": {},
   "outputs": [],
   "source": []
  },
  {
   "cell_type": "code",
   "execution_count": 50,
   "id": "6cfa07c5-98d8-42dd-a3a1-85591abe0cac",
   "metadata": {},
   "outputs": [],
   "source": [
    "# predict\n",
    "\n",
    "y_pred = model.predict(X_test)\n",
    "y_pred = np.argmax(y_pred, axis = 1)"
   ]
  },
  {
   "cell_type": "code",
   "execution_count": 86,
   "id": "b25c700a-a083-4404-8245-e567376c3e9c",
   "metadata": {},
   "outputs": [],
   "source": [
    "submission = pd.read_csv('../data/sample_submission.csv')"
   ]
  },
  {
   "cell_type": "code",
   "execution_count": 87,
   "id": "45ad3642-f13f-4672-981a-a165ba9813e1",
   "metadata": {},
   "outputs": [],
   "source": [
    "submission['label'] = y_pred"
   ]
  },
  {
   "cell_type": "code",
   "execution_count": 96,
   "id": "f123da2d-78c3-4e7b-9b22-26715b11c214",
   "metadata": {},
   "outputs": [],
   "source": [
    "training_set_values = training_set.class_indices.keys()"
   ]
  },
  {
   "cell_type": "code",
   "execution_count": 97,
   "id": "d7eac0a1-0001-40f6-8d65-d68726d6b3b8",
   "metadata": {},
   "outputs": [],
   "source": [
    "training_set_keys = training_set.class_indices.values()"
   ]
  },
  {
   "cell_type": "code",
   "execution_count": 100,
   "id": "91b133c3-be66-4458-a6cd-320efa64e976",
   "metadata": {},
   "outputs": [],
   "source": [
    "training_set_reversed = dict(zip(training_set_keys, training_set_values))"
   ]
  },
  {
   "cell_type": "code",
   "execution_count": 101,
   "id": "9b6cafc6-e8e3-433b-a45b-d3624f23a6e8",
   "metadata": {},
   "outputs": [
    {
     "data": {
      "text/plain": [
       "{0: 'bacterial_leaf_blight',\n",
       " 1: 'bacterial_leaf_streak',\n",
       " 2: 'bacterial_panicle_blight',\n",
       " 3: 'blast',\n",
       " 4: 'brown_spot',\n",
       " 5: 'dead_heart',\n",
       " 6: 'downy_mildew',\n",
       " 7: 'hispa',\n",
       " 8: 'normal',\n",
       " 9: 'tungro'}"
      ]
     },
     "execution_count": 101,
     "metadata": {},
     "output_type": "execute_result"
    }
   ],
   "source": [
    "training_set_reversed"
   ]
  },
  {
   "cell_type": "code",
   "execution_count": 103,
   "id": "eb351736-a457-48c7-928f-742158a4ec20",
   "metadata": {},
   "outputs": [],
   "source": [
    "submission['label'] = submission['label'].map(training_set_reversed)"
   ]
  },
  {
   "cell_type": "code",
   "execution_count": 104,
   "id": "fdd58d17-1c29-4ee8-99ec-0ef390f5c520",
   "metadata": {},
   "outputs": [
    {
     "data": {
      "text/html": [
       "<div>\n",
       "<style scoped>\n",
       "    .dataframe tbody tr th:only-of-type {\n",
       "        vertical-align: middle;\n",
       "    }\n",
       "\n",
       "    .dataframe tbody tr th {\n",
       "        vertical-align: top;\n",
       "    }\n",
       "\n",
       "    .dataframe thead th {\n",
       "        text-align: right;\n",
       "    }\n",
       "</style>\n",
       "<table border=\"1\" class=\"dataframe\">\n",
       "  <thead>\n",
       "    <tr style=\"text-align: right;\">\n",
       "      <th></th>\n",
       "      <th>image_id</th>\n",
       "      <th>label</th>\n",
       "    </tr>\n",
       "  </thead>\n",
       "  <tbody>\n",
       "    <tr>\n",
       "      <th>0</th>\n",
       "      <td>200001.jpg</td>\n",
       "      <td>hispa</td>\n",
       "    </tr>\n",
       "    <tr>\n",
       "      <th>1</th>\n",
       "      <td>200002.jpg</td>\n",
       "      <td>normal</td>\n",
       "    </tr>\n",
       "    <tr>\n",
       "      <th>2</th>\n",
       "      <td>200003.jpg</td>\n",
       "      <td>hispa</td>\n",
       "    </tr>\n",
       "    <tr>\n",
       "      <th>3</th>\n",
       "      <td>200004.jpg</td>\n",
       "      <td>brown_spot</td>\n",
       "    </tr>\n",
       "    <tr>\n",
       "      <th>4</th>\n",
       "      <td>200005.jpg</td>\n",
       "      <td>blast</td>\n",
       "    </tr>\n",
       "    <tr>\n",
       "      <th>...</th>\n",
       "      <td>...</td>\n",
       "      <td>...</td>\n",
       "    </tr>\n",
       "    <tr>\n",
       "      <th>3464</th>\n",
       "      <td>203465.jpg</td>\n",
       "      <td>dead_heart</td>\n",
       "    </tr>\n",
       "    <tr>\n",
       "      <th>3465</th>\n",
       "      <td>203466.jpg</td>\n",
       "      <td>normal</td>\n",
       "    </tr>\n",
       "    <tr>\n",
       "      <th>3466</th>\n",
       "      <td>203467.jpg</td>\n",
       "      <td>brown_spot</td>\n",
       "    </tr>\n",
       "    <tr>\n",
       "      <th>3467</th>\n",
       "      <td>203468.jpg</td>\n",
       "      <td>bacterial_panicle_blight</td>\n",
       "    </tr>\n",
       "    <tr>\n",
       "      <th>3468</th>\n",
       "      <td>203469.jpg</td>\n",
       "      <td>dead_heart</td>\n",
       "    </tr>\n",
       "  </tbody>\n",
       "</table>\n",
       "<p>3469 rows × 2 columns</p>\n",
       "</div>"
      ],
      "text/plain": [
       "        image_id                     label\n",
       "0     200001.jpg                     hispa\n",
       "1     200002.jpg                    normal\n",
       "2     200003.jpg                     hispa\n",
       "3     200004.jpg                brown_spot\n",
       "4     200005.jpg                     blast\n",
       "...          ...                       ...\n",
       "3464  203465.jpg                dead_heart\n",
       "3465  203466.jpg                    normal\n",
       "3466  203467.jpg                brown_spot\n",
       "3467  203468.jpg  bacterial_panicle_blight\n",
       "3468  203469.jpg                dead_heart\n",
       "\n",
       "[3469 rows x 2 columns]"
      ]
     },
     "execution_count": 104,
     "metadata": {},
     "output_type": "execute_result"
    }
   ],
   "source": [
    "submission"
   ]
  },
  {
   "cell_type": "code",
   "execution_count": 105,
   "id": "450f0c19-f995-4509-8d4d-b828fe5a4f21",
   "metadata": {},
   "outputs": [],
   "source": [
    "submission.to_csv('../data/submission.csv', index = False)"
   ]
  }
 ],
 "metadata": {
  "kernelspec": {
   "display_name": "Python 3 (ipykernel)",
   "language": "python",
   "name": "python3"
  },
  "language_info": {
   "codemirror_mode": {
    "name": "ipython",
    "version": 3
   },
   "file_extension": ".py",
   "mimetype": "text/x-python",
   "name": "python",
   "nbconvert_exporter": "python",
   "pygments_lexer": "ipython3",
   "version": "3.9.12"
  }
 },
 "nbformat": 4,
 "nbformat_minor": 5
}

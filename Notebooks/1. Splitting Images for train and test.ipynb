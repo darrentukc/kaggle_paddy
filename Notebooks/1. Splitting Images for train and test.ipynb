{
 "cells": [
  {
   "cell_type": "code",
   "execution_count": 11,
   "id": "683b3c01-cb2e-430a-9379-ee92a599b7be",
   "metadata": {},
   "outputs": [],
   "source": [
    "# pip install split-folders\n",
    "## installs package to split train images into train, validation sets"
   ]
  },
  {
   "cell_type": "code",
   "execution_count": 12,
   "id": "abc4bc1c-a2aa-4baf-9daa-744b26682c22",
   "metadata": {},
   "outputs": [],
   "source": [
    "import splitfolders"
   ]
  },
  {
   "cell_type": "code",
   "execution_count": 13,
   "id": "e7a14ce6-6e53-4603-a924-256329403955",
   "metadata": {},
   "outputs": [],
   "source": [
    "input_folder = '../data/train_images'"
   ]
  },
  {
   "cell_type": "code",
   "execution_count": 14,
   "id": "119addf2-9ac3-48c4-b942-4538fd2e3d02",
   "metadata": {},
   "outputs": [],
   "source": [
    "output = '../data/train_images_split'"
   ]
  },
  {
   "cell_type": "code",
   "execution_count": 15,
   "id": "7dafafa9-cbe9-42ed-84f9-7ee039971e27",
   "metadata": {},
   "outputs": [
    {
     "name": "stderr",
     "output_type": "stream",
     "text": [
      "Copying files: 10407 files [00:13, 756.28 files/s]\n"
     ]
    }
   ],
   "source": [
    "# split to 80 20 ratio\n",
    "\n",
    "splitfolders.ratio(input_folder, output = output, seed = 42, ratio = (.8, .2))"
   ]
  }
 ],
 "metadata": {
  "kernelspec": {
   "display_name": "Python 3 (ipykernel)",
   "language": "python",
   "name": "python3"
  },
  "language_info": {
   "codemirror_mode": {
    "name": "ipython",
    "version": 3
   },
   "file_extension": ".py",
   "mimetype": "text/x-python",
   "name": "python",
   "nbconvert_exporter": "python",
   "pygments_lexer": "ipython3",
   "version": "3.9.12"
  }
 },
 "nbformat": 4,
 "nbformat_minor": 5
}

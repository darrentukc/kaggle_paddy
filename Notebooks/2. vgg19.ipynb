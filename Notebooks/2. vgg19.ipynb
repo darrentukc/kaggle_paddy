{
 "cells": [
  {
   "cell_type": "code",
   "execution_count": 1,
   "id": "da0ae970-cd8e-4ac8-9a31-e910bbfb794a",
   "metadata": {},
   "outputs": [],
   "source": [
    "from tensorflow.keras.layers import Input, Lambda, Dense, Flatten,Dropout\n",
    "from tensorflow.keras.models import Model\n",
    "from tensorflow.keras.applications.vgg19 import VGG19\n",
    "from tensorflow.keras.applications.vgg19 import preprocess_input\n",
    "from tensorflow.keras.preprocessing import image\n",
    "from tensorflow.keras.preprocessing.image import ImageDataGenerator\n",
    "from tensorflow.keras.models import Sequential\n",
    "import numpy as np\n",
    "import pandas as pd\n",
    "import os\n",
    "import cv2\n",
    "import matplotlib.pyplot as plt"
   ]
  },
  {
   "cell_type": "code",
   "execution_count": 2,
   "id": "56c5b163-9843-466c-a9b4-d769995dacee",
   "metadata": {},
   "outputs": [],
   "source": [
    "train_path = '../data/train_images_split/train'"
   ]
  },
  {
   "cell_type": "code",
   "execution_count": 3,
   "id": "add032d5-192c-4afb-bb65-1a85dabce352",
   "metadata": {},
   "outputs": [],
   "source": [
    "val_path = '../data/train_images_split/val'"
   ]
  },
  {
   "cell_type": "code",
   "execution_count": 4,
   "id": "04cf4c76-a8ad-497f-ba65-38b5b64f6e4c",
   "metadata": {},
   "outputs": [],
   "source": [
    "test_path = '../data/test_images'"
   ]
  },
  {
   "cell_type": "code",
   "execution_count": 5,
   "id": "d71a9528-dcbd-4573-bcbd-e2f053a8a3b7",
   "metadata": {
    "tags": []
   },
   "outputs": [
    {
     "name": "stdout",
     "output_type": "stream",
     "text": [
      "8323\r"
     ]
    }
   ],
   "source": [
    "X_train = []\n",
    "x = 0\n",
    "for folder in os.listdir(train_path):\n",
    "    \n",
    "    sub_path= train_path + '/' + folder\n",
    "    \n",
    "    for img in os.listdir(sub_path):\n",
    "        image_path = sub_path + '/' + img\n",
    "        img_arr = cv2.imread(image_path)\n",
    "        img_arr = cv2.resize(img_arr, (32,32))\n",
    "        X_train.append(img_arr)\n",
    "        x += 1\n",
    "        print(x, end='\\r')"
   ]
  },
  {
   "cell_type": "code",
   "execution_count": 65,
   "id": "7d56e65f-55c3-4a0f-992e-e0940f4f2273",
   "metadata": {},
   "outputs": [
    {
     "name": "stdout",
     "output_type": "stream",
     "text": [
      "3469\r"
     ]
    }
   ],
   "source": [
    "X_test = []\n",
    "x = 0\n",
    "for img in os.listdir(test_path):\n",
    "    \n",
    "    image_path = test_path + '/' + img\n",
    "    img_arr = cv2.imread(image_path)\n",
    "    img_arr = cv2.resize(img_arr, (32,32))\n",
    "    X_test.append(img_arr)\n",
    "    x += 1\n",
    "    print(x, end='\\r')"
   ]
  },
  {
   "cell_type": "code",
   "execution_count": 7,
   "id": "7defd2a4-3d50-4ba6-a8f6-fe127fead450",
   "metadata": {},
   "outputs": [
    {
     "name": "stdout",
     "output_type": "stream",
     "text": [
      "2084\r"
     ]
    }
   ],
   "source": [
    "X_val = []\n",
    "x = 0\n",
    "for folder in os.listdir(val_path):\n",
    "    sub_path = val_path + '/' + folder\n",
    "    \n",
    "    for img in os.listdir(sub_path):\n",
    "        image_path = sub_path + '/' + img\n",
    "        img_arr = cv2.imread(image_path)\n",
    "        img_arr = cv2.resize(img_arr, (32,32))\n",
    "        X_val.append(img_arr)\n",
    "        x += 1\n",
    "        print(x, end = '\\r')\n",
    "        \n",
    "    "
   ]
  },
  {
   "cell_type": "code",
   "execution_count": 8,
   "id": "99a419ef-9aae-445e-b442-07d69f41fad0",
   "metadata": {
    "tags": []
   },
   "outputs": [],
   "source": [
    "X_train = np.array(X_train)\n",
    "X_test = np.array(X_test)\n",
    "X_val = np.array(X_val)"
   ]
  },
  {
   "cell_type": "code",
   "execution_count": 9,
   "id": "328d38e9-0798-4dd9-a684-8e559683367f",
   "metadata": {},
   "outputs": [],
   "source": [
    "X_train = X_train / 255\n",
    "X_test = X_test / 255\n",
    "X_val = X_val / 255"
   ]
  },
  {
   "cell_type": "code",
   "execution_count": 10,
   "id": "5882684b-6ac4-4aad-bb88-1e0bba18a1e3",
   "metadata": {},
   "outputs": [],
   "source": [
    "train_datagen = ImageDataGenerator(rescale = 1./255)"
   ]
  },
  {
   "cell_type": "code",
   "execution_count": 11,
   "id": "b8f154a5-37c2-405e-ac91-291c93417d2e",
   "metadata": {},
   "outputs": [],
   "source": [
    "test_datagen = ImageDataGenerator(rescale = 1./255)"
   ]
  },
  {
   "cell_type": "code",
   "execution_count": 12,
   "id": "c80304f6-be20-4764-aaf1-5e09e6168f21",
   "metadata": {},
   "outputs": [],
   "source": [
    "val_datagen = ImageDataGenerator(rescale = 1./255)"
   ]
  },
  {
   "cell_type": "code",
   "execution_count": 13,
   "id": "90302107-21f5-4bbf-9e56-fc8dc4edd6ad",
   "metadata": {},
   "outputs": [
    {
     "name": "stdout",
     "output_type": "stream",
     "text": [
      "Found 8323 images belonging to 10 classes.\n",
      "Found 0 images belonging to 0 classes.\n",
      "Found 2084 images belonging to 10 classes.\n"
     ]
    }
   ],
   "source": [
    "training_set = train_datagen.flow_from_directory(train_path,\n",
    "                                                 target_size = (32,32),\n",
    "                                                 batch_size = 32,\n",
    "                                                 class_mode = 'sparse')\n",
    "test_set = test_datagen.flow_from_directory(test_path,\n",
    "                                            target_size = (32,32),\n",
    "                                            batch_size = 32,\n",
    "                                            class_mode = 'sparse')\n",
    "val_set = val_datagen.flow_from_directory(val_path,\n",
    "                                            target_size = (32,32),\n",
    "                                            batch_size = 32,\n",
    "                                            class_mode = 'sparse')"
   ]
  },
  {
   "cell_type": "code",
   "execution_count": 14,
   "id": "5d984b4f-25e9-444b-8d35-738fc5281179",
   "metadata": {},
   "outputs": [],
   "source": [
    "y_train=training_set.classes\n",
    "y_test=test_set.classes\n",
    "y_val=val_set.classes"
   ]
  },
  {
   "cell_type": "code",
   "execution_count": 15,
   "id": "e358b697-4d27-4bf8-b40e-225a176f02f6",
   "metadata": {},
   "outputs": [
    {
     "data": {
      "text/plain": [
       "{'bacterial_leaf_blight': 0,\n",
       " 'bacterial_leaf_streak': 1,\n",
       " 'bacterial_panicle_blight': 2,\n",
       " 'blast': 3,\n",
       " 'brown_spot': 4,\n",
       " 'dead_heart': 5,\n",
       " 'downy_mildew': 6,\n",
       " 'hispa': 7,\n",
       " 'normal': 8,\n",
       " 'tungro': 9}"
      ]
     },
     "execution_count": 15,
     "metadata": {},
     "output_type": "execute_result"
    }
   ],
   "source": [
    "training_set.class_indices"
   ]
  },
  {
   "cell_type": "code",
   "execution_count": 16,
   "id": "d4beae64-d0a0-4812-a832-ecd63c020c63",
   "metadata": {},
   "outputs": [
    {
     "data": {
      "text/plain": [
       "((8323,), (0,), (2084,))"
      ]
     },
     "execution_count": 16,
     "metadata": {},
     "output_type": "execute_result"
    }
   ],
   "source": [
    "y_train.shape,y_test.shape,y_val.shape"
   ]
  },
  {
   "cell_type": "code",
   "execution_count": 17,
   "id": "3f9916ed-4b3e-4746-b72f-4616331bfcd8",
   "metadata": {},
   "outputs": [
    {
     "data": {
      "text/plain": [
       "32"
      ]
     },
     "execution_count": 17,
     "metadata": {},
     "output_type": "execute_result"
    }
   ],
   "source": [
    "X_train.shape[1]"
   ]
  },
  {
   "cell_type": "code",
   "execution_count": 19,
   "id": "49d15498-1453-4190-835c-8c53af9de587",
   "metadata": {},
   "outputs": [],
   "source": [
    "vgg = VGG19(input_shape = (32, 32, 3), weights = 'imagenet', include_top = False)"
   ]
  },
  {
   "cell_type": "code",
   "execution_count": 20,
   "id": "65c5469b-7497-4a24-9d7f-507b83ca082b",
   "metadata": {},
   "outputs": [],
   "source": [
    "#do not train the pre-trained layers of VGG-19\n",
    "for layer in vgg.layers:\n",
    "    layer.trainable = False"
   ]
  },
  {
   "cell_type": "code",
   "execution_count": 21,
   "id": "a5211c8d-13ab-41d7-a4d3-8155aa5dc134",
   "metadata": {},
   "outputs": [],
   "source": [
    "x = Flatten()(vgg.output)"
   ]
  },
  {
   "cell_type": "code",
   "execution_count": 22,
   "id": "1064fc58-6874-4f38-9d4a-ec6b20ac3bbf",
   "metadata": {},
   "outputs": [],
   "source": [
    "#adding output layer.Softmax classifier is used as it is multi-class classification\n",
    "prediction = Dense(10, activation='softmax')(x)\n",
    "\n",
    "model = Model(inputs=vgg.input, outputs=prediction)"
   ]
  },
  {
   "cell_type": "code",
   "execution_count": 23,
   "id": "5769c702-6766-4d98-9867-f80cb9787612",
   "metadata": {
    "tags": []
   },
   "outputs": [
    {
     "name": "stdout",
     "output_type": "stream",
     "text": [
      "Model: \"model\"\n",
      "_________________________________________________________________\n",
      " Layer (type)                Output Shape              Param #   \n",
      "=================================================================\n",
      " input_1 (InputLayer)        [(None, 32, 32, 3)]       0         \n",
      "                                                                 \n",
      " block1_conv1 (Conv2D)       (None, 32, 32, 64)        1792      \n",
      "                                                                 \n",
      " block1_conv2 (Conv2D)       (None, 32, 32, 64)        36928     \n",
      "                                                                 \n",
      " block1_pool (MaxPooling2D)  (None, 16, 16, 64)        0         \n",
      "                                                                 \n",
      " block2_conv1 (Conv2D)       (None, 16, 16, 128)       73856     \n",
      "                                                                 \n",
      " block2_conv2 (Conv2D)       (None, 16, 16, 128)       147584    \n",
      "                                                                 \n",
      " block2_pool (MaxPooling2D)  (None, 8, 8, 128)         0         \n",
      "                                                                 \n",
      " block3_conv1 (Conv2D)       (None, 8, 8, 256)         295168    \n",
      "                                                                 \n",
      " block3_conv2 (Conv2D)       (None, 8, 8, 256)         590080    \n",
      "                                                                 \n",
      " block3_conv3 (Conv2D)       (None, 8, 8, 256)         590080    \n",
      "                                                                 \n",
      " block3_conv4 (Conv2D)       (None, 8, 8, 256)         590080    \n",
      "                                                                 \n",
      " block3_pool (MaxPooling2D)  (None, 4, 4, 256)         0         \n",
      "                                                                 \n",
      " block4_conv1 (Conv2D)       (None, 4, 4, 512)         1180160   \n",
      "                                                                 \n",
      " block4_conv2 (Conv2D)       (None, 4, 4, 512)         2359808   \n",
      "                                                                 \n",
      " block4_conv3 (Conv2D)       (None, 4, 4, 512)         2359808   \n",
      "                                                                 \n",
      " block4_conv4 (Conv2D)       (None, 4, 4, 512)         2359808   \n",
      "                                                                 \n",
      " block4_pool (MaxPooling2D)  (None, 2, 2, 512)         0         \n",
      "                                                                 \n",
      " block5_conv1 (Conv2D)       (None, 2, 2, 512)         2359808   \n",
      "                                                                 \n",
      " block5_conv2 (Conv2D)       (None, 2, 2, 512)         2359808   \n",
      "                                                                 \n",
      " block5_conv3 (Conv2D)       (None, 2, 2, 512)         2359808   \n",
      "                                                                 \n",
      " block5_conv4 (Conv2D)       (None, 2, 2, 512)         2359808   \n",
      "                                                                 \n",
      " block5_pool (MaxPooling2D)  (None, 1, 1, 512)         0         \n",
      "                                                                 \n",
      " flatten (Flatten)           (None, 512)               0         \n",
      "                                                                 \n",
      " dense (Dense)               (None, 10)                5130      \n",
      "                                                                 \n",
      "=================================================================\n",
      "Total params: 20,029,514\n",
      "Trainable params: 5,130\n",
      "Non-trainable params: 20,024,384\n",
      "_________________________________________________________________\n"
     ]
    }
   ],
   "source": [
    "# view the structure of the model\n",
    "model.summary()"
   ]
  },
  {
   "cell_type": "code",
   "execution_count": 24,
   "id": "46487cb9-9389-4639-8638-f7fda7e64615",
   "metadata": {},
   "outputs": [],
   "source": [
    "model.compile(\n",
    "  loss='sparse_categorical_crossentropy',\n",
    "  optimizer=\"adam\",\n",
    "  metrics=['accuracy']\n",
    ")"
   ]
  },
  {
   "cell_type": "code",
   "execution_count": 25,
   "id": "c1bc2b67-ebef-4d13-aa80-f63af643b4af",
   "metadata": {},
   "outputs": [],
   "source": [
    "from tensorflow.keras.callbacks import EarlyStopping\n",
    "early_stop=EarlyStopping(monitor='val_loss',mode='min',verbose=1,patience=5)\n",
    "#Early stopping to avoid overfitting of model"
   ]
  },
  {
   "cell_type": "code",
   "execution_count": 26,
   "id": "984cbd34-8e25-4b92-bfd2-e5e351b8d111",
   "metadata": {},
   "outputs": [
    {
     "name": "stdout",
     "output_type": "stream",
     "text": [
      "Epoch 1/10\n",
      "261/261 [==============================] - 39s 146ms/step - loss: 2.0375 - accuracy: 0.2777 - val_loss: 1.9634 - val_accuracy: 0.2965\n",
      "Epoch 2/10\n",
      "261/261 [==============================] - 51s 197ms/step - loss: 1.8811 - accuracy: 0.3467 - val_loss: 1.8663 - val_accuracy: 0.3325\n",
      "Epoch 3/10\n",
      "261/261 [==============================] - 55s 212ms/step - loss: 1.8134 - accuracy: 0.3686 - val_loss: 1.8242 - val_accuracy: 0.3685\n",
      "Epoch 4/10\n",
      "261/261 [==============================] - 56s 213ms/step - loss: 1.7670 - accuracy: 0.3857 - val_loss: 1.7855 - val_accuracy: 0.3762\n",
      "Epoch 5/10\n",
      "261/261 [==============================] - 55s 211ms/step - loss: 1.7326 - accuracy: 0.3977 - val_loss: 1.7548 - val_accuracy: 0.3834\n",
      "Epoch 6/10\n",
      "261/261 [==============================] - 55s 212ms/step - loss: 1.7013 - accuracy: 0.4115 - val_loss: 1.7354 - val_accuracy: 0.3949\n",
      "Epoch 7/10\n",
      "261/261 [==============================] - 55s 212ms/step - loss: 1.6765 - accuracy: 0.4232 - val_loss: 1.7185 - val_accuracy: 0.3988\n",
      "Epoch 8/10\n",
      "261/261 [==============================] - 55s 210ms/step - loss: 1.6552 - accuracy: 0.4268 - val_loss: 1.6997 - val_accuracy: 0.4031\n",
      "Epoch 9/10\n",
      "261/261 [==============================] - 54s 208ms/step - loss: 1.6343 - accuracy: 0.4384 - val_loss: 1.6881 - val_accuracy: 0.4036\n",
      "Epoch 10/10\n",
      "261/261 [==============================] - 54s 209ms/step - loss: 1.6175 - accuracy: 0.4436 - val_loss: 1.6693 - val_accuracy: 0.4199\n"
     ]
    }
   ],
   "source": [
    "# fit the model\n",
    "history = model.fit(\n",
    "  X_train,\n",
    "  y_train,\n",
    "  validation_data=(X_val,y_val),\n",
    "  epochs=10,\n",
    "  callbacks=[early_stop],\n",
    "  batch_size=32,shuffle=True)"
   ]
  },
  {
   "cell_type": "code",
   "execution_count": 27,
   "id": "84b13b5b-0149-4190-871a-80ddb35c69bf",
   "metadata": {},
   "outputs": [
    {
     "data": {
      "image/png": "[encoded data removed]",
      "text/plain": [
       "<Figure size 432x288 with 1 Axes>"
      ]
     },
     "metadata": {
      "needs_background": "light"
     },
     "output_type": "display_data"
    }
   ],
   "source": [
    "# accuracies\n",
    "\n",
    "plt.plot(history.history['accuracy'], label='train acc')\n",
    "\n",
    "plt.plot(history.history['val_accuracy'], label='val acc')\n",
    "\n",
    "plt.legend()\n",
    "\n",
    "plt.savefig('vgg-acc-rps-1.png')\n",
    "\n",
    "plt.show()"
   ]
  },
  {
   "cell_type": "code",
   "execution_count": 28,
   "id": "f4e46011-2867-4905-ba71-5087217cd23b",
   "metadata": {},
   "outputs": [
    {
     "data": {
      "image/png": "[encoded data removed]",
      "text/plain": [
       "<Figure size 432x288 with 1 Axes>"
      ]
     },
     "metadata": {
      "needs_background": "light"
     },
     "output_type": "display_data"
    }
   ],
   "source": [
    "# loss\n",
    "plt.plot(history.history['loss'], label='train loss')\n",
    "plt.plot(history.history['val_loss'], label='val loss')\n",
    "plt.legend()\n",
    "plt.savefig('vgg-loss-rps-1.png')\n",
    "plt.show()"
   ]
  },
  {
   "cell_type": "code",
   "execution_count": 49,
   "id": "0a75d1c1-12df-433d-84c2-d36587ea24d0",
   "metadata": {},
   "outputs": [],
   "source": [
    "# model.evaluate(X_test,y_val,batch_size=32)"
   ]
  },
  {
   "cell_type": "code",
   "execution_count": 50,
   "id": "6cfa07c5-98d8-42dd-a3a1-85591abe0cac",
   "metadata": {},
   "outputs": [],
   "source": [
    "# predict\n",
    "\n",
    "y_pred = model.predict(X_test)\n",
    "y_pred = np.argmax(y_pred, axis = 1)"
   ]
  },
  {
   "cell_type": "code",
   "execution_count": 86,
   "id": "b25c700a-a083-4404-8245-e567376c3e9c",
   "metadata": {},
   "outputs": [],
   "source": [
    "submission = pd.read_csv('../data/sample_submission.csv')"
   ]
  },
  {
   "cell_type": "code",
   "execution_count": 87,
   "id": "45ad3642-f13f-4672-981a-a165ba9813e1",
   "metadata": {},
   "outputs": [],
   "source": [
    "submission['label'] = y_pred"
   ]
  },
  {
   "cell_type": "code",
   "execution_count": 96,
   "id": "f123da2d-78c3-4e7b-9b22-26715b11c214",
   "metadata": {},
   "outputs": [],
   "source": [
    "training_set_values = training_set.class_indices.keys()"
   ]
  },
  {
   "cell_type": "code",
   "execution_count": 97,
   "id": "d7eac0a1-0001-40f6-8d65-d68726d6b3b8",
   "metadata": {},
   "outputs": [],
   "source": [
    "training_set_keys = training_set.class_indices.values()"
   ]
  },
  {
   "cell_type": "code",
   "execution_count": 100,
   "id": "91b133c3-be66-4458-a6cd-320efa64e976",
   "metadata": {},
   "outputs": [],
   "source": [
    "training_set_reversed = dict(zip(training_set_keys, training_set_values))"
   ]
  },
  {
   "cell_type": "code",
   "execution_count": 101,
   "id": "9b6cafc6-e8e3-433b-a45b-d3624f23a6e8",
   "metadata": {},
   "outputs": [
    {
     "data": {
      "text/plain": [
       "{0: 'bacterial_leaf_blight',\n",
       " 1: 'bacterial_leaf_streak',\n",
       " 2: 'bacterial_panicle_blight',\n",
       " 3: 'blast',\n",
       " 4: 'brown_spot',\n",
       " 5: 'dead_heart',\n",
       " 6: 'downy_mildew',\n",
       " 7: 'hispa',\n",
       " 8: 'normal',\n",
       " 9: 'tungro'}"
      ]
     },
     "execution_count": 101,
     "metadata": {},
     "output_type": "execute_result"
    }
   ],
   "source": [
    "training_set_reversed"
   ]
  },
  {
   "cell_type": "code",
   "execution_count": 103,
   "id": "eb351736-a457-48c7-928f-742158a4ec20",
   "metadata": {},
   "outputs": [],
   "source": [
    "submission['label'] = submission['label'].map(training_set_reversed)"
   ]
  },
  {
   "cell_type": "code",
   "execution_count": 104,
   "id": "fdd58d17-1c29-4ee8-99ec-0ef390f5c520",
   "metadata": {},
   "outputs": [
    {
     "data": {
      "text/html": [
       "<div>\n",
       "<style scoped>\n",
       "    .dataframe tbody tr th:only-of-type {\n",
       "        vertical-align: middle;\n",
       "    }\n",
       "\n",
       "    .dataframe tbody tr th {\n",
       "        vertical-align: top;\n",
       "    }\n",
       "\n",
       "    .dataframe thead th {\n",
       "        text-align: right;\n",
       "    }\n",
       "</style>\n",
       "<table border=\"1\" class=\"dataframe\">\n",
       "  <thead>\n",
       "    <tr style=\"text-align: right;\">\n",
       "      <th></th>\n",
       "      <th>image_id</th>\n",
       "      <th>label</th>\n",
       "    </tr>\n",
       "  </thead>\n",
       "  <tbody>\n",
       "    <tr>\n",
       "      <th>0</th>\n",
       "      <td>200001.jpg</td>\n",
       "      <td>hispa</td>\n",
       "    </tr>\n",
       "    <tr>\n",
       "      <th>1</th>\n",
       "      <td>200002.jpg</td>\n",
       "      <td>normal</td>\n",
       "    </tr>\n",
       "    <tr>\n",
       "      <th>2</th>\n",
       "      <td>200003.jpg</td>\n",
       "      <td>hispa</td>\n",
       "    </tr>\n",
       "    <tr>\n",
       "      <th>3</th>\n",
       "      <td>200004.jpg</td>\n",
       "      <td>brown_spot</td>\n",
       "    </tr>\n",
       "    <tr>\n",
       "      <th>4</th>\n",
       "      <td>200005.jpg</td>\n",
       "      <td>blast</td>\n",
       "    </tr>\n",
       "    <tr>\n",
       "      <th>...</th>\n",
       "      <td>...</td>\n",
       "      <td>...</td>\n",
       "    </tr>\n",
       "    <tr>\n",
       "      <th>3464</th>\n",
       "      <td>203465.jpg</td>\n",
       "      <td>dead_heart</td>\n",
       "    </tr>\n",
       "    <tr>\n",
       "      <th>3465</th>\n",
       "      <td>203466.jpg</td>\n",
       "      <td>normal</td>\n",
       "    </tr>\n",
       "    <tr>\n",
       "      <th>3466</th>\n",
       "      <td>203467.jpg</td>\n",
       "      <td>brown_spot</td>\n",
       "    </tr>\n",
       "    <tr>\n",
       "      <th>3467</th>\n",
       "      <td>203468.jpg</td>\n",
       "      <td>bacterial_panicle_blight</td>\n",
       "    </tr>\n",
       "    <tr>\n",
       "      <th>3468</th>\n",
       "      <td>203469.jpg</td>\n",
       "      <td>dead_heart</td>\n",
       "    </tr>\n",
       "  </tbody>\n",
       "</table>\n",
       "<p>3469 rows × 2 columns</p>\n",
       "</div>"
      ],
      "text/plain": [
       "        image_id                     label\n",
       "0     200001.jpg                     hispa\n",
       "1     200002.jpg                    normal\n",
       "2     200003.jpg                     hispa\n",
       "3     200004.jpg                brown_spot\n",
       "4     200005.jpg                     blast\n",
       "...          ...                       ...\n",
       "3464  203465.jpg                dead_heart\n",
       "3465  203466.jpg                    normal\n",
       "3466  203467.jpg                brown_spot\n",
       "3467  203468.jpg  bacterial_panicle_blight\n",
       "3468  203469.jpg                dead_heart\n",
       "\n",
       "[3469 rows x 2 columns]"
      ]
     },
     "execution_count": 104,
     "metadata": {},
     "output_type": "execute_result"
    }
   ],
   "source": [
    "submission"
   ]
  },
  {
   "cell_type": "code",
   "execution_count": 63,
   "id": "450f0c19-f995-4509-8d4d-b828fe5a4f21",
   "metadata": {},
   "outputs": [],
   "source": [
    "submission.to_csv('../data/submission.csv', index = False)"
   ]
  }
 ],
 "metadata": {
  "kernelspec": {
   "display_name": "Python 3 (ipykernel)",
   "language": "python",
   "name": "python3"
  },
  "language_info": {
   "codemirror_mode": {
    "name": "ipython",
    "version": 3
   },
   "file_extension": ".py",
   "mimetype": "text/x-python",
   "name": "python",
   "nbconvert_exporter": "python",
   "pygments_lexer": "ipython3",
   "version": "3.9.12"
  }
 },
 "nbformat": 4,
 "nbformat_minor": 5
}
